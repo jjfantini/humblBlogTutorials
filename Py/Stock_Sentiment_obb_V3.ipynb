{
  "nbformat": 4,
  "nbformat_minor": 0,
  "metadata": {
    "colab": {
      "provenance": [],
      "authorship_tag": "ABX9TyNC2gZR5H7xuJYIM2CeiQ6k",
      "include_colab_link": true
    },
    "kernelspec": {
      "name": "python3",
      "display_name": "Python 3"
    },
    "language_info": {
      "name": "python"
    }
  },
  "cells": [
    {
      "cell_type": "markdown",
      "metadata": {
        "id": "view-in-github",
        "colab_type": "text"
      },
      "source": [
        "<a href=\"https://colab.research.google.com/github/jjfantini/humblBlogTutorials/blob/master/Py/Stock_Sentiment_obb_V3.ipynb\" target=\"_parent\"><img src=\"https://colab.research.google.com/assets/colab-badge.svg\" alt=\"Open In Colab\"/></a>"
      ]
    },
    {
      "cell_type": "markdown",
      "source": [
        "## Install & Load Libraries"
      ],
      "metadata": {
        "id": "FCovq6VSTojh"
      }
    },
    {
      "cell_type": "code",
      "execution_count": null,
      "metadata": {
        "id": "TW7JLU7lTiim"
      },
      "outputs": [],
      "source": [
        "!pip install openbb\n",
        "!pip install langchain"
      ]
    },
    {
      "cell_type": "code",
      "source": [
        "from openbb_terminal.sdk import openbb as obb"
      ],
      "metadata": {
        "id": "ZpN-Gf4X3LcO"
      },
      "execution_count": null,
      "outputs": []
    },
    {
      "cell_type": "markdown",
      "source": [
        "## Collect OpenAI API Key"
      ],
      "metadata": {
        "id": "gc2HtVlrBrh1"
      }
    },
    {
      "cell_type": "code",
      "source": [
        "from google.colab import userdata\n",
        "\n",
        "OPENAI_API_KEY = userdata.get('OPENAI_API')"
      ],
      "metadata": {
        "id": "Tzu3UUfSB_xs"
      },
      "execution_count": 5,
      "outputs": []
    },
    {
      "cell_type": "markdown",
      "source": [
        "## Collect Stock News Data"
      ],
      "metadata": {
        "id": "xEZt1bdtT3RO"
      }
    },
    {
      "cell_type": "code",
      "source": [
        "# Collect Option Chain Data\n",
        "\n",
        "# News for OpenAI Analysis\n",
        "news = obb.news(term=\"AAPL\")\n",
        "\n",
        "# Used for alternative news sources\n",
        "# news2 = obb.stocks.news(term=\"AAPL\", sort=\"articlePublishedDate\").head(10)\n",
        "\n",
        "# Bull/Bear Ratio Data\n",
        "bullbear = obb.stocks.ba.bullbear(\"AAPL\")\n",
        "\n",
        "# Finbrain Sentiment (to plot a sentiment graph overtime)\n",
        "stock_sentiment = obb.stocks.ba.headlines(\"AAPL\")\n"
      ],
      "metadata": {
        "id": "cBZvFdhOWm1Q"
      },
      "execution_count": 21,
      "outputs": []
    },
    {
      "cell_type": "markdown",
      "source": [
        "## Create AI Stock Sentiment Agent"
      ],
      "metadata": {
        "id": "QU2QZSjFGNuX"
      }
    },
    {
      "cell_type": "code",
      "source": [
        "from langchain.chains import LLMChain\n",
        "from langchain.prompts import PromptTemplate\n",
        "from langchain.chat_models import ChatOpenAI\n",
        "\n",
        "# Use gpt-3.5-turbo if you don't have gpt-4 access, although if you don't...where have you been lol\n",
        "llm = ChatOpenAI(model=\"gpt-4\", temperature=0, openai_api_key=OPENAI_API_KEY)"
      ],
      "metadata": {
        "id": "Co-pYqAmAM9g"
      },
      "execution_count": 8,
      "outputs": []
    },
    {
      "cell_type": "markdown",
      "source": [
        "### Create Agent Instructions"
      ],
      "metadata": {
        "id": "lGLip31YGikW"
      }
    },
    {
      "cell_type": "code",
      "source": [
        "prompt = \"\"\"\n",
        "# Background\n",
        "You are a qualified and experienced stock analyst.\n",
        "You have been working in this field for over 20 years, and have gotten accustomed to trader behaviour.\n",
        "This has allowed you to become proficient at gauging investor sentiment based on a news headline and small exerpts of news articles.\n",
        "You will be given either a news headline or summary of the article.\n",
        "\n",
        "# Tasks\n",
        "1. You are to answer this question:\n",
        "Is the predominant sentiment in the following statement positive, negative, or neutral?\n",
        "---------\n",
        "Statement: {statement}\n",
        "---------\n",
        "\n",
        "2. Respond with one word in lowercase: positive, negative, or neutral.\n",
        "\n",
        "[your sentiment choice]\n",
        "\"\"\"\n",
        "\n",
        "chain = LLMChain.from_string(\n",
        "    llm=llm,\n",
        "    template=prompt\n",
        ")"
      ],
      "metadata": {
        "id": "ErTHr__IGoBJ"
      },
      "execution_count": 12,
      "outputs": []
    },
    {
      "cell_type": "markdown",
      "source": [
        "## Compile All Sentiment Data"
      ],
      "metadata": {
        "id": "0cfRkahbI3zf"
      }
    },
    {
      "cell_type": "markdown",
      "source": [
        "### Generate Sentiment Analysis from News"
      ],
      "metadata": {
        "id": "V-2hcCUcJCCe"
      }
    },
    {
      "cell_type": "code",
      "source": [
        "# Create a table to collect your analysis results\n",
        "import pandas as pd\n",
        "\n",
        "sentiment_table = pd.DataFrame()\n",
        "sentiment_table[\"news_headline\"] = news['Description']\n",
        "sentiment_table[\"sentiment\"] = news.Description.apply(chain.run)"
      ],
      "metadata": {
        "id": "JsJgj73EI62P"
      },
      "execution_count": 13,
      "outputs": []
    },
    {
      "cell_type": "code",
      "source": [
        "bullbear"
      ],
      "metadata": {
        "colab": {
          "base_uri": "https://localhost:8080/"
        },
        "id": "gVCxfmzJJRbE",
        "outputId": "ba0c472f-7f22-4456-93f5-1657f3a65e77"
      },
      "execution_count": 34,
      "outputs": [
        {
          "output_type": "execute_result",
          "data": {
            "text/plain": [
              "(898648, 19, 4, 15)"
            ]
          },
          "metadata": {},
          "execution_count": 34
        }
      ]
    },
    {
      "cell_type": "code",
      "source": [
        "## BULL BEAR RATIO CALCULATION\n",
        "import numpy as np\n",
        "\n",
        "def calculate_bullbear_ratio(bullbear):\n",
        "    \"\"\"\n",
        "    Calculate the bull/bear ratio from a tuple containing bullish and bearish statement counts.\n",
        "    Bearish: -1\n",
        "    Neutral:  0\n",
        "    Bullish:  1\n",
        "\n",
        "    Parameters:\n",
        "    bullbear (tuple): A tuple returned from `obb.stocks.ba.bullbear()`\n",
        "\n",
        "    Returns:\n",
        "    Float: The value of bulish/bearish sentiment.\n",
        "    \"\"\"\n",
        "\n",
        "    # Extract the number of bullish and bearish statements from the tuple\n",
        "    num_bullish = bullbear[2]\n",
        "    num_bearish = bullbear[3]\n",
        "\n",
        "    # Calculate the bull/bear ratio\n",
        "    # To avoid division by zero, check if the total number of statements is not zero\n",
        "    total = num_bullish + num_bearish\n",
        "    if total != 0:\n",
        "        bullbear_ratio = (num_bullish - num_bearish) / total\n",
        "    else:\n",
        "        bullbear_ratio = 0  # Assign zero if total count is zero\n",
        "\n",
        "    print(f\"Bullish/Bearish Ratio: {bullbear_ratio}\")\n",
        "\n",
        "    return bullbear_ratio\n"
      ],
      "metadata": {
        "id": "fHpKFavwRUW1"
      },
      "execution_count": 79,
      "outputs": []
    },
    {
      "cell_type": "code",
      "source": [
        "bullbear_ratio = calculate_bullbear_ratio(bullbear)\n"
      ],
      "metadata": {
        "colab": {
          "base_uri": "https://localhost:8080/"
        },
        "id": "n4LiCDPRTNJQ",
        "outputId": "8d306b0f-1bf2-444a-ef46-b47f4a848ec4"
      },
      "execution_count": 80,
      "outputs": [
        {
          "output_type": "stream",
          "name": "stdout",
          "text": [
            "Bullish/Bearish Ratio: -0.5789473684210527\n"
          ]
        }
      ]
    },
    {
      "cell_type": "code",
      "source": [
        "import plotly.express as px\n",
        "import pandas as pd\n",
        "\n",
        "# Create a simple line plot using Plotly\n",
        "fig = px.line(stock_sentiment, y='Sentiment Analysis', title='Sentiment Analysis Over Time')\n",
        "\n",
        "# Add a horizontal line at y=0 to emphasize the zero point\n",
        "fig.add_hline(y=0, line_dash=\"dash\", line_color=\"red\")\n",
        "\n",
        "# Show plot\n",
        "fig.show()\n",
        "\n"
      ],
      "metadata": {
        "colab": {
          "base_uri": "https://localhost:8080/",
          "height": 542
        },
        "id": "XETXGOMyNs1Y",
        "outputId": "633ac0ce-1d99-45cb-842a-f22734bd021b"
      },
      "execution_count": 66,
      "outputs": [
        {
          "output_type": "display_data",
          "data": {
            "text/html": [
              "<html>\n",
              "<head><meta charset=\"utf-8\" /></head>\n",
              "<body>\n",
              "    <div>            <script src=\"https://cdnjs.cloudflare.com/ajax/libs/mathjax/2.7.5/MathJax.js?config=TeX-AMS-MML_SVG\"></script><script type=\"text/javascript\">if (window.MathJax && window.MathJax.Hub && window.MathJax.Hub.Config) {window.MathJax.Hub.Config({SVG: {font: \"STIX-Web\"}});}</script>                <script type=\"text/javascript\">window.PlotlyConfig = {MathJaxConfig: 'local'};</script>\n",
              "        <script charset=\"utf-8\" src=\"https://cdn.plot.ly/plotly-2.24.1.min.js\"></script>                <div id=\"bf69adb7-baac-4c4f-a48f-9dd2e3ca2286\" class=\"plotly-graph-div\" style=\"height:525px; width:100%;\"></div>            <script type=\"text/javascript\">                                    window.PLOTLYENV=window.PLOTLYENV || {};                                    if (document.getElementById(\"bf69adb7-baac-4c4f-a48f-9dd2e3ca2286\")) {                    Plotly.newPlot(                        \"bf69adb7-baac-4c4f-a48f-9dd2e3ca2286\",                        [{\"hovertemplate\":\"date=%{x}\\u003cbr\\u003eSentiment Analysis=%{y}\\u003cextra\\u003e\\u003c\\u002fextra\\u003e\",\"legendgroup\":\"\",\"line\":{\"color\":\"#ffed00\",\"dash\":\"solid\"},\"marker\":{\"symbol\":\"circle\"},\"mode\":\"lines\",\"name\":\"\",\"orientation\":\"v\",\"showlegend\":false,\"x\":[\"2023-10-30T00:00:00\",\"2023-10-31T00:00:00\",\"2023-11-01T00:00:00\",\"2023-11-02T00:00:00\",\"2023-11-03T00:00:00\",\"2023-11-06T00:00:00\",\"2023-11-07T00:00:00\",\"2023-11-08T00:00:00\",\"2023-11-09T00:00:00\",\"2023-11-10T00:00:00\"],\"xaxis\":\"x\",\"y\":[0.038,0.187,0.158,0.161,-0.223,0.104,0.256,0.287,0.334,0.271],\"yaxis\":\"y\",\"type\":\"scatter\"}],                        {\"template\":{\"data\":{\"barpolar\":[{\"marker\":{\"line\":{\"color\":\"rgb(17,17,17)\",\"width\":0.5},\"pattern\":{\"fillmode\":\"overlay\",\"size\":10,\"solidity\":0.2}},\"type\":\"barpolar\"}],\"bar\":[{\"error_x\":{\"color\":\"#f2f5fa\"},\"error_y\":{\"color\":\"#f2f5fa\"},\"marker\":{\"line\":{\"color\":\"rgb(17,17,17)\",\"width\":0.5},\"pattern\":{\"fillmode\":\"overlay\",\"size\":10,\"solidity\":0.2}},\"type\":\"bar\"}],\"carpet\":[{\"aaxis\":{\"endlinecolor\":\"#A2B1C6\",\"gridcolor\":\"#506784\",\"linecolor\":\"#506784\",\"minorgridcolor\":\"#506784\",\"startlinecolor\":\"#A2B1C6\"},\"baxis\":{\"endlinecolor\":\"#A2B1C6\",\"gridcolor\":\"#506784\",\"linecolor\":\"#506784\",\"minorgridcolor\":\"#506784\",\"startlinecolor\":\"#A2B1C6\"},\"type\":\"carpet\"}],\"choropleth\":[{\"colorbar\":{\"outlinewidth\":0,\"ticks\":\"\"},\"type\":\"choropleth\"}],\"contourcarpet\":[{\"colorbar\":{\"outlinewidth\":0,\"ticks\":\"\"},\"type\":\"contourcarpet\"}],\"contour\":[{\"colorbar\":{\"outlinewidth\":0,\"ticks\":\"\"},\"colorscale\":[[0.0,\"#0d0887\"],[0.1111111111111111,\"#46039f\"],[0.2222222222222222,\"#7201a8\"],[0.3333333333333333,\"#9c179e\"],[0.4444444444444444,\"#bd3786\"],[0.5555555555555556,\"#d8576b\"],[0.6666666666666666,\"#ed7953\"],[0.7777777777777778,\"#fb9f3a\"],[0.8888888888888888,\"#fdca26\"],[1.0,\"#f0f921\"]],\"type\":\"contour\"}],\"heatmapgl\":[{\"colorbar\":{\"outlinewidth\":0,\"ticks\":\"\"},\"colorscale\":[[0.0,\"#0d0887\"],[0.1111111111111111,\"#46039f\"],[0.2222222222222222,\"#7201a8\"],[0.3333333333333333,\"#9c179e\"],[0.4444444444444444,\"#bd3786\"],[0.5555555555555556,\"#d8576b\"],[0.6666666666666666,\"#ed7953\"],[0.7777777777777778,\"#fb9f3a\"],[0.8888888888888888,\"#fdca26\"],[1.0,\"#f0f921\"]],\"type\":\"heatmapgl\"}],\"heatmap\":[{\"colorbar\":{\"outlinewidth\":0,\"ticks\":\"\"},\"colorscale\":[[0.0,\"#0d0887\"],[0.1111111111111111,\"#46039f\"],[0.2222222222222222,\"#7201a8\"],[0.3333333333333333,\"#9c179e\"],[0.4444444444444444,\"#bd3786\"],[0.5555555555555556,\"#d8576b\"],[0.6666666666666666,\"#ed7953\"],[0.7777777777777778,\"#fb9f3a\"],[0.8888888888888888,\"#fdca26\"],[1.0,\"#f0f921\"]],\"type\":\"heatmap\"}],\"histogram2dcontour\":[{\"colorbar\":{\"outlinewidth\":0,\"ticks\":\"\"},\"colorscale\":[[0.0,\"#0d0887\"],[0.1111111111111111,\"#46039f\"],[0.2222222222222222,\"#7201a8\"],[0.3333333333333333,\"#9c179e\"],[0.4444444444444444,\"#bd3786\"],[0.5555555555555556,\"#d8576b\"],[0.6666666666666666,\"#ed7953\"],[0.7777777777777778,\"#fb9f3a\"],[0.8888888888888888,\"#fdca26\"],[1.0,\"#f0f921\"]],\"type\":\"histogram2dcontour\"}],\"histogram2d\":[{\"colorbar\":{\"outlinewidth\":0,\"ticks\":\"\"},\"colorscale\":[[0.0,\"#0d0887\"],[0.1111111111111111,\"#46039f\"],[0.2222222222222222,\"#7201a8\"],[0.3333333333333333,\"#9c179e\"],[0.4444444444444444,\"#bd3786\"],[0.5555555555555556,\"#d8576b\"],[0.6666666666666666,\"#ed7953\"],[0.7777777777777778,\"#fb9f3a\"],[0.8888888888888888,\"#fdca26\"],[1.0,\"#f0f921\"]],\"type\":\"histogram2d\"}],\"histogram\":[{\"marker\":{\"pattern\":{\"fillmode\":\"overlay\",\"size\":10,\"solidity\":0.2}},\"type\":\"histogram\"}],\"mesh3d\":[{\"colorbar\":{\"outlinewidth\":0,\"ticks\":\"\"},\"type\":\"mesh3d\"}],\"parcoords\":[{\"line\":{\"colorbar\":{\"outlinewidth\":0,\"ticks\":\"\"}},\"type\":\"parcoords\"}],\"pie\":[{\"automargin\":true,\"type\":\"pie\"}],\"scatter3d\":[{\"line\":{\"colorbar\":{\"outlinewidth\":0,\"ticks\":\"\"}},\"marker\":{\"colorbar\":{\"outlinewidth\":0,\"ticks\":\"\"}},\"type\":\"scatter3d\"}],\"scattercarpet\":[{\"marker\":{\"colorbar\":{\"outlinewidth\":0,\"ticks\":\"\"}},\"type\":\"scattercarpet\"}],\"scattergeo\":[{\"marker\":{\"colorbar\":{\"outlinewidth\":0,\"ticks\":\"\"}},\"type\":\"scattergeo\"}],\"scattergl\":[{\"marker\":{\"line\":{\"color\":\"#283442\"}},\"type\":\"scattergl\"}],\"scattermapbox\":[{\"marker\":{\"colorbar\":{\"outlinewidth\":0,\"ticks\":\"\"}},\"type\":\"scattermapbox\"}],\"scatterpolargl\":[{\"marker\":{\"colorbar\":{\"outlinewidth\":0,\"ticks\":\"\"}},\"type\":\"scatterpolargl\"}],\"scatterpolar\":[{\"marker\":{\"colorbar\":{\"outlinewidth\":0,\"ticks\":\"\"}},\"type\":\"scatterpolar\"}],\"scatter\":[{\"marker\":{\"line\":{\"color\":\"#283442\"}},\"type\":\"scatter\"}],\"scatterternary\":[{\"marker\":{\"colorbar\":{\"outlinewidth\":0,\"ticks\":\"\"}},\"type\":\"scatterternary\"}],\"surface\":[{\"colorbar\":{\"outlinewidth\":0,\"ticks\":\"\"},\"colorscale\":[[0.0,\"#0d0887\"],[0.1111111111111111,\"#46039f\"],[0.2222222222222222,\"#7201a8\"],[0.3333333333333333,\"#9c179e\"],[0.4444444444444444,\"#bd3786\"],[0.5555555555555556,\"#d8576b\"],[0.6666666666666666,\"#ed7953\"],[0.7777777777777778,\"#fb9f3a\"],[0.8888888888888888,\"#fdca26\"],[1.0,\"#f0f921\"]],\"type\":\"surface\"}],\"table\":[{\"cells\":{\"fill\":{\"color\":\"#506784\"},\"line\":{\"color\":\"rgb(17,17,17)\"}},\"header\":{\"fill\":{\"color\":\"#2a3f5f\"},\"line\":{\"color\":\"rgb(17,17,17)\"}},\"type\":\"table\"}],\"candlestick\":[{\"decreasing\":{\"fillcolor\":\"#e4003a\",\"line\":{\"color\":\"#e4003a\"}},\"increasing\":{\"fillcolor\":\"#00ACFF\",\"line\":{\"color\":\"#00ACFF\"}},\"type\":\"candlestick\"}]},\"layout\":{\"annotationdefaults\":{\"arrowcolor\":\"#f2f5fa\",\"arrowhead\":0,\"arrowwidth\":1,\"showarrow\":false},\"autotypenumbers\":\"strict\",\"coloraxis\":{\"colorbar\":{\"outlinewidth\":0,\"ticks\":\"\"}},\"colorscale\":{\"diverging\":[[0,\"#8e0152\"],[0.1,\"#c51b7d\"],[0.2,\"#de77ae\"],[0.3,\"#f1b6da\"],[0.4,\"#fde0ef\"],[0.5,\"#f7f7f7\"],[0.6,\"#e6f5d0\"],[0.7,\"#b8e186\"],[0.8,\"#7fbc41\"],[0.9,\"#4d9221\"],[1,\"#276419\"]],\"sequential\":[[0.0,\"#0d0887\"],[0.1111111111111111,\"#46039f\"],[0.2222222222222222,\"#7201a8\"],[0.3333333333333333,\"#9c179e\"],[0.4444444444444444,\"#bd3786\"],[0.5555555555555556,\"#d8576b\"],[0.6666666666666666,\"#ed7953\"],[0.7777777777777778,\"#fb9f3a\"],[0.8888888888888888,\"#fdca26\"],[1.0,\"#f0f921\"]],\"sequentialminus\":[[0.0,\"#0d0887\"],[0.1111111111111111,\"#46039f\"],[0.2222222222222222,\"#7201a8\"],[0.3333333333333333,\"#9c179e\"],[0.4444444444444444,\"#bd3786\"],[0.5555555555555556,\"#d8576b\"],[0.6666666666666666,\"#ed7953\"],[0.7777777777777778,\"#fb9f3a\"],[0.8888888888888888,\"#fdca26\"],[1.0,\"#f0f921\"]]},\"colorway\":[\"#ffed00\",\"#ef7d00\",\"#e4003a\",\"#c13246\",\"#822661\",\"#48277c\",\"#005ca9\",\"#00aaff\",\"#9b30d9\",\"#af005f\",\"#5f00af\",\"#af87ff\"],\"font\":{\"color\":\"#f2f5fa\",\"family\":\"Fira Code\",\"size\":18},\"geo\":{\"bgcolor\":\"rgb(17,17,17)\",\"lakecolor\":\"rgb(17,17,17)\",\"landcolor\":\"rgb(17,17,17)\",\"showlakes\":true,\"showland\":true,\"subunitcolor\":\"#506784\"},\"hoverlabel\":{\"align\":\"left\"},\"hovermode\":\"x\",\"mapbox\":{\"style\":\"dark\"},\"paper_bgcolor\":\"#000000\",\"plot_bgcolor\":\"#000000\",\"polar\":{\"angularaxis\":{\"gridcolor\":\"#506784\",\"linecolor\":\"#506784\",\"ticks\":\"\"},\"bgcolor\":\"rgb(17,17,17)\",\"radialaxis\":{\"gridcolor\":\"#506784\",\"linecolor\":\"#506784\",\"ticks\":\"\"}},\"scene\":{\"xaxis\":{\"backgroundcolor\":\"rgb(17,17,17)\",\"gridcolor\":\"#506784\",\"gridwidth\":2,\"linecolor\":\"#506784\",\"showbackground\":true,\"ticks\":\"\",\"zerolinecolor\":\"#C8D4E3\"},\"yaxis\":{\"backgroundcolor\":\"rgb(17,17,17)\",\"gridcolor\":\"#506784\",\"gridwidth\":2,\"linecolor\":\"#506784\",\"showbackground\":true,\"ticks\":\"\",\"zerolinecolor\":\"#C8D4E3\"},\"zaxis\":{\"backgroundcolor\":\"rgb(17,17,17)\",\"gridcolor\":\"#506784\",\"gridwidth\":2,\"linecolor\":\"#506784\",\"showbackground\":true,\"ticks\":\"\",\"zerolinecolor\":\"#C8D4E3\"}},\"shapedefaults\":{\"line\":{\"color\":\"#f2f5fa\"}},\"sliderdefaults\":{\"bgcolor\":\"#C8D4E3\",\"bordercolor\":\"rgb(17,17,17)\",\"borderwidth\":1,\"tickwidth\":0},\"ternary\":{\"aaxis\":{\"gridcolor\":\"#506784\",\"linecolor\":\"#506784\",\"ticks\":\"\"},\"baxis\":{\"gridcolor\":\"#506784\",\"linecolor\":\"#506784\",\"ticks\":\"\"},\"bgcolor\":\"rgb(17,17,17)\",\"caxis\":{\"gridcolor\":\"#506784\",\"linecolor\":\"#506784\",\"ticks\":\"\"}},\"title\":{\"x\":0.05},\"updatemenudefaults\":{\"bgcolor\":\"#506784\",\"borderwidth\":0},\"xaxis\":{\"automargin\":true,\"gridcolor\":\"#283442\",\"linecolor\":\"#F5EFF3\",\"ticks\":\"outside\",\"title\":{\"standoff\":20},\"zerolinecolor\":\"#283442\",\"zerolinewidth\":2,\"autorange\":true,\"mirror\":true,\"rangeslider\":{\"visible\":false},\"showgrid\":true,\"showline\":true,\"tick0\":1,\"tickfont\":{\"size\":14},\"zeroline\":false},\"yaxis\":{\"automargin\":true,\"gridcolor\":\"#283442\",\"linecolor\":\"#F5EFF3\",\"ticks\":\"outside\",\"title\":{\"standoff\":20},\"zerolinecolor\":\"#283442\",\"zerolinewidth\":2,\"anchor\":\"x\",\"fixedrange\":false,\"mirror\":true,\"showgrid\":true,\"showline\":true,\"side\":\"right\",\"tick0\":0.5,\"zeroline\":false},\"dragmode\":\"pan\",\"legend\":{\"bgcolor\":\"rgba(0, 0, 0, 0.5)\",\"font\":{\"size\":15},\"x\":0.01,\"xanchor\":\"left\",\"y\":0.99,\"yanchor\":\"top\"},\"legend2\":{\"bgcolor\":\"rgba(0, 0, 0, 0.5)\",\"font\":{\"size\":15}},\"legend3\":{\"bgcolor\":\"rgba(0, 0, 0, 0.5)\",\"font\":{\"size\":15}},\"legend4\":{\"bgcolor\":\"rgba(0, 0, 0, 0.5)\",\"font\":{\"size\":15}},\"legend5\":{\"bgcolor\":\"rgba(0, 0, 0, 0.5)\",\"font\":{\"size\":15}}}},\"xaxis\":{\"anchor\":\"y\",\"domain\":[0.0,1.0],\"title\":{\"text\":\"date\"}},\"yaxis\":{\"anchor\":\"x\",\"domain\":[0.0,1.0],\"title\":{\"text\":\"Sentiment Analysis\"}},\"legend\":{\"tracegroupgap\":0},\"title\":{\"text\":\"Sentiment Analysis Over Time\"},\"shapes\":[{\"line\":{\"color\":\"red\",\"dash\":\"dash\"},\"type\":\"line\",\"x0\":0,\"x1\":1,\"xref\":\"x domain\",\"y0\":0,\"y1\":0,\"yref\":\"y\"}]},                        {\"responsive\": true}                    ).then(function(){\n",
              "                            \n",
              "var gd = document.getElementById('bf69adb7-baac-4c4f-a48f-9dd2e3ca2286');\n",
              "var x = new MutationObserver(function (mutations, observer) {{\n",
              "        var display = window.getComputedStyle(gd).display;\n",
              "        if (!display || display === 'none') {{\n",
              "            console.log([gd, 'removed!']);\n",
              "            Plotly.purge(gd);\n",
              "            observer.disconnect();\n",
              "        }}\n",
              "}});\n",
              "\n",
              "// Listen for the removal of the full notebook cells\n",
              "var notebookContainer = gd.closest('#notebook-container');\n",
              "if (notebookContainer) {{\n",
              "    x.observe(notebookContainer, {childList: true});\n",
              "}}\n",
              "\n",
              "// Listen for the clearing of the current output cell\n",
              "var outputEl = gd.closest('.output');\n",
              "if (outputEl) {{\n",
              "    x.observe(outputEl, {childList: true});\n",
              "}}\n",
              "\n",
              "                        })                };                            </script>        </div>\n",
              "</body>\n",
              "</html>"
            ]
          },
          "metadata": {}
        }
      ]
    },
    {
      "cell_type": "markdown",
      "source": [
        "### Future Directions\n",
        "\n",
        "\n",
        "*   Add a filtering step to ensure the news_headlines column has 'AAPL'/'Apple' text in it.\n",
        "* Aggregate all statistics to calculate one comprehensive bullish/bearish sentiment signal\n",
        "\n"
      ],
      "metadata": {
        "id": "qIxwt6eROHaa"
      }
    }
  ]
}