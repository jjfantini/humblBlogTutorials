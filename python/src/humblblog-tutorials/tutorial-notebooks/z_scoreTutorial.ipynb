{
  "cells": [
    {
      "cell_type": "markdown",
      "metadata": {
        "colab_type": "text",
        "id": "view-in-github"
      },
      "source": [
        "<a href=\"https://colab.research.google.com/github/jjfantini/humblBlogTutorials/blob/master/python/z_scoreTutorial.ipynb\" target=\"_parent\"><img src=\"https://colab.research.google.com/assets/colab-badge.svg\" alt=\"Open In Colab\"/></a>"
      ]
    },
    {
      "cell_type": "markdown",
      "metadata": {
        "id": "sMcXSTZq6gPF"
      },
      "source": [
        "# Install Libraries"
      ]
    },
    {
      "cell_type": "code",
      "execution_count": null,
      "metadata": {
        "id": "J-v28tS--hfd"
      },
      "outputs": [],
      "source": [
        "import numpy as np\n",
        "import pandas as pd\n",
        "import yfinance as yf\n",
        "import plotly.graph_objects as go\n",
        "import plotly.express as px\n",
        "from scipy.stats import zscore\n",
        "import datetime as dt\n",
        "import pandas_datareader as pdr\n",
        "from plotly.subplots import make_subplots\n",
        "import plotly.graph_objects as go\n",
        "\n",
        "\n",
        "yf.pdr_override()"
      ]
    },
    {
      "cell_type": "markdown",
      "metadata": {
        "id": "wje8KITj_TfJ"
      },
      "source": [
        "# Step 1: Define Functions"
      ]
    },
    {
      "cell_type": "markdown",
      "metadata": {
        "id": "Lpfrfvu2_aaO"
      },
      "source": [
        "## 1.1 - get_data()"
      ]
    },
    {
      "cell_type": "code",
      "execution_count": null,
      "metadata": {
        "id": "95CthjgC_SrY"
      },
      "outputs": [],
      "source": [
        "def get_fred_data(\n",
        "    fred_code: str = \"UNRATE\",\n",
        "    start: str | dt.date = dt.date.today() - dt.timedelta(days=365),\n",
        "    end: str | dt.date = dt.date.today(),\n",
        "):\n",
        "    \"\"\"\n",
        "    Fetches stock data for the given symbol from start to end dates\n",
        "\n",
        "\n",
        "\n",
        "    Args:\n",
        "\n",
        "\n",
        "\n",
        "    fred_code (str): Stock symbol. Default is \"UNRATE\".\n",
        "    start (datetime.date): Start date. Default is one year from today.\n",
        "\n",
        "\n",
        "    end (datetime.date): End date. Default is today.\n",
        "\n",
        "\n",
        "\n",
        "    Returns:\n",
        "\n",
        "\n",
        "    pandas.DataFrame: Stock data.\n",
        "    \"\"\"\n",
        "\n",
        "    return pdr.DataReader(fred_code, data_source=\"fred\", start=start, end=end)"
      ]
    },
    {
      "cell_type": "markdown",
      "metadata": {},
      "source": [
        "## 1.2 - calculate_z_score()"
      ]
    },
    {
      "cell_type": "code",
      "execution_count": null,
      "metadata": {},
      "outputs": [],
      "source": [
        "def calculate_z_score(df):\n",
        "    \"\"\"\n",
        "    Calculates the z-score for the given dataframe.\n",
        "\n",
        "    Args:\n",
        "    df (pandas.DataFrame): The input dataframe.\n",
        "\n",
        "    Returns:\n",
        "    pandas.DataFrame: The dataframe with an additional column 'z_score'.\n",
        "    \"\"\"\n",
        "\n",
        "    df[\"z_score\"] = zscore(df)\n",
        "    return df"
      ]
    },
    {
      "cell_type": "markdown",
      "metadata": {},
      "source": [
        "## 1.3 - visualize_data()"
      ]
    },
    {
      "cell_type": "code",
      "execution_count": null,
      "metadata": {},
      "outputs": [],
      "source": [
        "def visualize_data(df, fred_code: str):\n",
        "    \"\"\"\n",
        "    Plots two time series in separate subplots: actual data values on top and z-scores on the bottom.\n",
        "\n",
        "    Args:\n",
        "    df (pandas.DataFrame): The input dataframe with 'DATE' as index.\n",
        "    data_column_name (str): The name of the column containing the actual data values.\n",
        "\n",
        "    Returns:\n",
        "    plotly.graph_objects.Figure: The figure object containing the plot.\n",
        "    \"\"\"\n",
        "    # Create figure with two rows\n",
        "    fig = make_subplots(rows=2, cols=1)\n",
        "\n",
        "    # Add actual values trace to the first row\n",
        "    fig.add_trace(\n",
        "        go.Scatter(\n",
        "            x=df.index,\n",
        "            y=df[fred_code],\n",
        "            name=\"Actual Values\",\n",
        "            line=dict(color=\"blue\"),\n",
        "        ),\n",
        "        row=1,\n",
        "        col=1,\n",
        "    )\n",
        "\n",
        "    # Add z-score trace to the second row\n",
        "    fig.add_trace(\n",
        "        go.Scatter(\n",
        "            x=df.index, y=df[\"z_score\"], name=\"Z-Scores\", line=dict(color=\"red\")\n",
        "        ),\n",
        "        row=2,\n",
        "        col=1,\n",
        "    )\n",
        "\n",
        "    # Add figure title\n",
        "    fig.update_layout(title_text=f\"{fred_code} and Z-Scores Over Time\", height=700)\n",
        "\n",
        "    # Set x-axis title for the bottom plot\n",
        "    fig.update_xaxes(title_text=\"Date\", row=2, col=1)\n",
        "\n",
        "    # Set y-axes titles\n",
        "    fig.update_yaxes(title_text=f\"{fred_code}\", row=1, col=1)\n",
        "    fig.update_yaxes(title_text=\"Z-Score\", row=2, col=1)\n",
        "\n",
        "    return fig\n"
      ]
    },
    {
      "cell_type": "markdown",
      "metadata": {},
      "source": [
        "# Step 2: Bring it All Together"
      ]
    },
    {
      "cell_type": "code",
      "execution_count": null,
      "metadata": {},
      "outputs": [],
      "source": [
        "data = get_fred_data(fred_code=\"UNRATE\", start=\"2021-01-01\", end=\"2023-12-10\")\n",
        "\n",
        "# Step 2.2: Calculate Z-Score\n",
        "data = calculate_z_score(data)\n",
        "# Step 2.3: Visualize the Data\n",
        "fig = visualize_data(data, fred_code=\"UNRATE\")\n",
        "fig.show()"
      ]
    }
  ],
  "metadata": {
    "colab": {
      "authorship_tag": "ABX9TyNia+HMsERoPkHhwvNCKkhq",
      "include_colab_link": true,
      "provenance": []
    },
    "kernelspec": {
      "display_name": "Python 3",
      "name": "python3"
    },
    "language_info": {
      "codemirror_mode": {
        "name": "ipython",
        "version": 3
      },
      "file_extension": ".py",
      "mimetype": "text/x-python",
      "name": "python",
      "nbconvert_exporter": "python",
      "pygments_lexer": "ipython3",
      "version": "3.12.0"
    }
  },
  "nbformat": 4,
  "nbformat_minor": 0
}
