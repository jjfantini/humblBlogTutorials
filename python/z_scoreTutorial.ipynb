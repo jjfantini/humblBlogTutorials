{
  "nbformat": 4,
  "nbformat_minor": 0,
  "metadata": {
    "colab": {
      "provenance": [],
      "authorship_tag": "ABX9TyNia+HMsERoPkHhwvNCKkhq",
      "include_colab_link": true
    },
    "kernelspec": {
      "name": "python3",
      "display_name": "Python 3"
    },
    "language_info": {
      "name": "python"
    }
  },
  "cells": [
    {
      "cell_type": "markdown",
      "metadata": {
        "id": "view-in-github",
        "colab_type": "text"
      },
      "source": [
        "<a href=\"https://colab.research.google.com/github/jjfantini/humblBlogTutorials/blob/master/python/z_scoreTutorial.ipynb\" target=\"_parent\"><img src=\"https://colab.research.google.com/assets/colab-badge.svg\" alt=\"Open In Colab\"/></a>"
      ]
    },
    {
      "cell_type": "markdown",
      "source": [
        "# Install Libraries"
      ],
      "metadata": {
        "id": "sMcXSTZq6gPF"
      }
    },
    {
      "cell_type": "code",
      "source": [
        "!pip install numpy pandas yfinance plotly scipy pandas-datareader\n"
      ],
      "metadata": {
        "id": "1ArUOodn-nKa"
      },
      "execution_count": null,
      "outputs": []
    },
    {
      "cell_type": "code",
      "source": [
        "import numpy as np\n",
        "import pandas as pd\n",
        "import yfinance as yf\n",
        "import plotly.graph_objects as go\n",
        "import plotly.express as px\n",
        "from scipy.stats import zscore\n",
        "import datetime as dt\n",
        "import pandas_datareader as pdr\n",
        "\n",
        "yf.pdr_override()\n"
      ],
      "metadata": {
        "id": "J-v28tS--hfd"
      },
      "execution_count": 11,
      "outputs": []
    },
    {
      "cell_type": "markdown",
      "source": [
        "# Step 1: Define Functions"
      ],
      "metadata": {
        "id": "wje8KITj_TfJ"
      }
    },
    {
      "cell_type": "markdown",
      "source": [
        "## 1.1 - get_data()"
      ],
      "metadata": {
        "id": "Lpfrfvu2_aaO"
      }
    },
    {
      "cell_type": "code",
      "source": [
        "def get_fred_data(fred_code, start, end):\n",
        "    \"\"\"\n",
        "    Fetches stock data for the given symbol from start to end date.\n",
        "\n",
        "    Args:\n",
        "    symbol (str): Stock symbol.\n",
        "    start (datetime.date): Start date.\n",
        "    end (datetime.date): End date.\n",
        "\n",
        "    Returns:\n",
        "    pandas.DataFrame: Stock data.\n",
        "    \"\"\"\n",
        "    fred_code = 'UNRATE'\n",
        "\n",
        "    return pdr.DataReader(, data_source='fred', start=start, end=end)\n"
      ],
      "metadata": {
        "id": "95CthjgC_SrY"
      },
      "execution_count": null,
      "outputs": []
    }
  ]
}